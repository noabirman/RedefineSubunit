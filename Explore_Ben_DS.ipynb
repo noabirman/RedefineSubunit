{
 "cells": [
  {
   "cell_type": "code",
   "execution_count": 1,
   "id": "9dfcfae1-9fd0-4fb7-aaff-b00b2a07b398",
   "metadata": {
    "ExecuteTime": {
     "end_time": "2025-01-21T18:37:09.565696Z",
     "start_time": "2025-01-21T18:37:09.280304Z"
    }
   },
   "outputs": [],
   "source": [
    "import numpy as np\n",
    "import json\n",
    "from Bio.PDB import MMCIFParser\n",
    "from collections import defaultdict\n",
    "\n",
    "# Load the JSON file\n",
    "with open(\"BDF_GDF_scores_rank_001_alphafold2_multimer_v3_model_5_seed_000.json\", \"r\") as file:\n",
    "    data = json.load(file)"
   ]
  },
  {
   "cell_type": "code",
   "execution_count": 2,
   "id": "bd9537d3-2f17-486f-b5c7-38ac72794f87",
   "metadata": {},
   "outputs": [
    {
     "data": {
      "text/plain": [
       "dict_keys(['max_pae', 'pae', 'plddt', 'ptm', 'iptm'])"
      ]
     },
     "execution_count": 2,
     "metadata": {},
     "output_type": "execute_result"
    }
   ],
   "source": [
    "data.keys()"
   ]
  },
  {
   "cell_type": "code",
   "execution_count": 3,
   "id": "6bfe44d4-1914-4714-aff1-09c9fa0006a1",
   "metadata": {},
   "outputs": [
    {
     "data": {
      "text/plain": [
       "884"
      ]
     },
     "execution_count": 3,
     "metadata": {},
     "output_type": "execute_result"
    }
   ],
   "source": [
    "len(data['pae'])"
   ]
  },
  {
   "cell_type": "code",
   "execution_count": 47,
   "id": "85f14787-fd8c-410d-ad0a-197929536669",
   "metadata": {},
   "outputs": [
    {
     "name": "stdout",
     "output_type": "stream",
     "text": [
      "884\n",
      "0.76\n",
      "0.23\n"
     ]
    },
    {
     "data": {
      "text/plain": [
       "list"
      ]
     },
     "execution_count": 47,
     "metadata": {},
     "output_type": "execute_result"
    }
   ],
   "source": [
    "print(len(data['plddt']))\n",
    "print(data['ptm'])\n",
    "print(data['iptm'])\n",
    "type(data['plddt'])"
   ]
  },
  {
   "cell_type": "code",
   "execution_count": 59,
   "id": "ca6c1b4f-b4bb-4e4d-9ed0-0e27d0b0e7b4",
   "metadata": {},
   "outputs": [
    {
     "name": "stdout",
     "output_type": "stream",
     "text": [
      "<generator object <genexpr> at 0x000001BFB354B1D0>\n",
      "{'A': 'MSKAVAAAKGADFIVSKVDTVVNWARAGSMWPMTFGLACCAVEMMHAGASRYDLDRFGIIFRPSPRQSDVMIVAGTLTNKMAPALRKVYDQMPEPKWVVSMGSCANGGGYYHYSYSVVRGCDRVVPVDVYVPGCPPTAEGLLYGLLQLQKKIYRSKNTQLWWNK', 'B': 'MISKKAIQAISQLGAKQPAVRAISSSVSALNQAAAAPALPADKMEVFVNGEAVVVPKNFTVLQACDAAGVDVPRFCYHQRLSIAGNCRMCLVEIEKAPKPVASCAFPAGPGMKIKTDTPVIKKAREGVMEFLLINHPLDCPICDQGGECDLQDQAMIFGSDRSRFIEYKRAVADKNLGPLIKTSMNRCIHCTRCVRFTHEVAGTSELGITGRGRDSEVGTYIEKLHSSELSGNVIDLCPVGALLSKPYAFTARSWELKGTETIDVSDALGSNIKVDCRGTEVMRITPRLNDAINEEWLSDKGRFQYDGLKRQRLNTPLVKGAKGLENATWSAAFDAIRTAIAGAKGNELKAIAGKLADAESMIALKDLFNKLGSGNLIHEDGSATLSADVRSSYIANTTIASIEKADVILLVGTNPRFESPVFNARLRKVFLDGAKVGLVGEKVDLTYAYQHLGADVAALESLASGKGAFFEALKGAKNPVVIVGSSVLRRDDREAVLKTVNDLVDAAGVVKEGWNGFNVLHDNASRVAALDIGFVPSASARTNPVPAKVVYLLGSDDFKDEEIPADAFVIYQGHHGDKGAARANVVLPGAAYTEKASLFANTEGRVQTTRTAVPVLGDAREDWKIIRALSEVVGQQLPYDSQPQVRARLAEVAPHFAEIGKAESALWLNGQYFKGVKDLVAKAARSTASLATNISNYYMTDAISRASRTMAKCTAVRQQ'}\n",
      "len A is: 164\n",
      "len B is 720\n",
      "total len is 884\n",
      "<Model id=0>\n"
     ]
    }
   ],
   "source": [
    "import Bio.SeqUtils\n",
    "import Bio.PDB, Bio.PDB.Residue\n",
    "from Bio import SeqIO\n",
    "pdb_path = 'BDF_GDF_unrelaxed_rank_001_alphafold2_multimer_v3_model_5_seed_000.pdb'\n",
    "#chain_to_seq = {str(record.id): str(record.seq) for record in Bio.SeqIO.parse(pdb_path, 'pdb-seqres')}\n",
    "#chain_to_seq = {str(record.id): str(record.seq) for record in SeqIO.parse(pdb_path, 'cif-atom')}\n",
    "\n",
    "#chain_to_seq = {str(record.id): str(record.seq) for record in SeqIO.parse(pdb_path, 'pdb-atom')}\n",
    "pdb_parser = Bio.PDB.PDBParser(QUIET=True)\n",
    "pdb_struct = pdb_parser.get_structure(\"original_pdb\", pdb_path)\n",
    "ress = pdb_struct.get_residues()\n",
    "type(ress)\n",
    "print(res for res in chain.get_residues())\n",
    "chains = pdb_struct.get_chains()\n",
    "type(chains)\n",
    "# for res in pdb_struct.get_residues():\n",
    "#     print(res)\n",
    "chain_to_seq = {}\n",
    "for chain in pdb_struct.get_chains():\n",
    "    res_id_to_res = {res.get_id()[1]: res for res in chain.get_residues() if \"CA\" in res}\n",
    "    chain_to_seq[chain.get_id()] = \"\"\n",
    "    for i in range(1, max(res_id_to_res) + 1):\n",
    "        chain_to_seq[chain.get_id()] += Bio.SeqUtils.seq1(res_id_to_res[i].get_resname())\n",
    "print(chain_to_seq)\n",
    "print(f\"len A is: {len(chain_to_seq['A'])}\")\n",
    "print(f\"len B is {len(chain_to_seq['B'])}\")\n",
    "print(f\"total len is {len(chain_to_seq['A'])+len(chain_to_seq['B'])}\")\n",
    "#print(res_id_to_res)\n",
    "for model in pdb_struct.get_models():\n",
    "    print(model)\n",
    "\n",
    "#print(res for res in pdb_struct.get_residues())\n",
    "#model = next(iter(pdb_struct))\n",
    "#type(pdb_struct)\n",
    "#type(chain_to_seq)\n",
    "#print(chain_to_seq)\n",
    "\n",
    "# for chain in model.get_chains():\n",
    "#     res_id_to_res = {res.get_id()[1]: res for res in chain.get_residues() if \"CA\" in res}\n",
    "#     if len(res_id_to_res) == 0:\n",
    "#         print(\"skipping empty chain\", chain.get_id())\n",
    "#         continue\n",
    "#     chain_to_seq[chain.get_id()] = \"\"\n",
    "#     for i in range(1, max(res_id_to_res) + 1):\n",
    "#         if i in res_id_to_res:\n",
    "#             chain_to_seq[chain.get_id()] += Bio.SeqUtils.seq1(res_id_to_res[i].get_resname())\n",
    "        \n"
   ]
  },
  {
   "cell_type": "code",
   "execution_count": 49,
   "id": "f7aa4adb-0d87-4bbb-b43d-6faeced3f5f8",
   "metadata": {},
   "outputs": [
    {
     "name": "stdout",
     "output_type": "stream",
     "text": [
      "MSKAVAAAKGADFIVSKVDTVVNWARAGSMWPMTFGLACCAVEMMHAGASRYDLDRFGIIFRPSPRQSDVMIVAGTLTNKMAPALRKVYDQMPEPKWVVSMGSCANGGGYYHYSYSVVRGCDRVVPVDVYVPGCPPTAEGLLYGLLQLQKKIYRSKNTQLWWNKMISKKAIQAISQLGAKQPAVRAISSSVSALNQAAAAPALPADKMEVFVNGEAVVVPKNFTVLQACDAAGVDVPRFCYHQRLSIAGNCRMCLVEIEKAPKPVASCAFPAGPGMKIKTDTPVIKKAREGVMEFLLINHPLDCPICDQGGECDLQDQAMIFGSDRSRFIEYKRAVADKNLGPLIKTSMNRCIHCTRCVRFTHEVAGTSELGITGRGRDSEVGTYIEKLHSSELSGNVIDLCPVGALLSKPYAFTARSWELKGTETIDVSDALGSNIKVDCRGTEVMRITPRLNDAINEEWLSDKGRFQYDGLKRQRLNTPLVKGAKGLENATWSAAFDAIRTAIAGAKGNELKAIAGKLADAESMIALKDLFNKLGSGNLIHEDGSATLSADVRSSYIANTTIASIEKADVILLVGTNPRFESPVFNARLRKVFLDGAKVGLVGEKVDLTYAYQHLGADVAALESLASGKGAFFEALKGAKNPVVIVGSSVLRRDDREAVLKTVNDLVDAAGVVKEGWNGFNVLHDNASRVAALDIGFVPSASARTNPVPAKVVYLLGSDDFKDEEIPADAFVIYQGHHGDKGAARANVVLPGAAYTEKASLFANTEGRVQTTRTAVPVLGDAREDWKIIRALSEVVGQQLPYDSQPQVRARLAEVAPHFAEIGKAESALWLNGQYFKGVKDLVAKAARSTASLATNISNYYMTDAISRASRTMAKCTAVRQQ\n",
      "884\n"
     ]
    }
   ],
   "source": [
    "full_seq=chain_to_seq['A']+chain_to_seq['B']\n",
    "print(full_seq)\n",
    "print(len(full_seq))"
   ]
  },
  {
   "cell_type": "code",
   "execution_count": 56,
   "id": "b1b26f84-c3e6-4ef1-bce0-5b645c49362f",
   "metadata": {},
   "outputs": [
    {
     "name": "stdout",
     "output_type": "stream",
     "text": [
      "21.41\n",
      "['SKVDTVVNWARAGSMWPMTFGLACCAVEMMHAGASRYDLDRFGIIFRPSPRQSDVMIVAGTLTNKMAPALRKVYDQMPEPKWVVSMGSCANGGGYYHYSYSVVRGCDRVVPVDVYVPGCPPTAEGLLYGLLQLQKKIYRSKNT', 'PALPADKMEVFVNGEAVVVPKNFTVLQACDAAGVDVPRFCYHQRLSIAGNCRMCLVEIEKAPKPVASCAFPAGPGMKIKTDTPVIKKAREGVMEFLLINHPLDCPICDQGGECDLQDQAMIFGSDRSRFIEYKRAVADKNLGPLIKTSMNRCIHCTRCVRFTHEVAGTSELGITGRGRDSEVGTYIEKLHSSELSGNVIDLCPVGALLSKPYAFTARSWELKGTETIDVSDALGSNIKVDCRGTEVMRITPRLNDAINEEWLSDKGRFQYDGLKRQRLNTPLVKGAKGLENATWSAAFDAIRTAIAGAKGNELKAIAGKLADAESMIALKDLFNKLGSGNLIHEDGSATLSADVRSSYIANTTIASIEKADVILLVGTNPRFESPVFNARLRKVFLDGAKVGLVGEKVDLTYAYQHLGADVAALESLASGKGAFFEALKGAKNPVVIVGSSVLRRDDREAVLKTVNDLVDAAGVVKEGWNGFNVLHDNASRVAALDIGFVPSASARTNPVPAKVVYLLGSDDFKDEEIPADAFVIYQGHHGDKGAARANVVLPGAAYTEKASLFANTEGRVQTTRTAVPVLGDAREDWKIIRALSEVVGQQLPYDSQPQVRARLAEVAPHFAEIGKAESALWLNGQYFKGVKDLVAKAARSTASLATNISNYYMTDAISRASRTMAKCTAVRQQ']\n",
      "2\n",
      "143\n",
      "684\n",
      "827\n",
      "[ 15 200]\n",
      "[157 883]\n"
     ]
    }
   ],
   "source": [
    "\n",
    "#args:\n",
    "plddt_array=np.array(data['plddt'])\n",
    "print(plddt_array[0])\n",
    "threshold=40\n",
    "\n",
    "nodes=[]\n",
    "# Identify start and end of continuous blocks where plDDT > 40\n",
    "high_confidence = np.where(plddt_array > threshold, 1, 0)\n",
    "borders = np.diff(np.concatenate([[0], high_confidence, [0]]))\n",
    "start_indices = np.where(borders == 1)[0]\n",
    "end_indices = np.where(borders == -1)[0] - 1\n",
    "for start, end in zip(start_indices, end_indices):\n",
    "    nodes.append(full_seq[start:end+1])\n",
    "print(nodes)\n",
    "print(len(nodes))\n",
    "total=0\n",
    "for node in nodes:\n",
    "    print(len(node))\n",
    "    total+=len(node)\n",
    "print(total)\n",
    "print(start_indices)\n",
    "print(end_indices)\n"
   ]
  }
 ],
 "metadata": {
  "kernelspec": {
   "display_name": "Python 3 (ipykernel)",
   "language": "python",
   "name": "python3"
  },
  "language_info": {
   "codemirror_mode": {
    "name": "ipython",
    "version": 3
   },
   "file_extension": ".py",
   "mimetype": "text/x-python",
   "name": "python",
   "nbconvert_exporter": "python",
   "pygments_lexer": "ipython3",
   "version": "3.11.9"
  }
 },
 "nbformat": 4,
 "nbformat_minor": 5
}
